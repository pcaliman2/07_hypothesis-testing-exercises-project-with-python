{
 "cells": [
  {
   "cell_type": "markdown",
   "id": "d9d036c6",
   "metadata": {},
   "source": [
    "# Problemas de prueba de hipótesis"
   ]
  },
  {
   "cell_type": "markdown",
   "id": "d157c4db",
   "metadata": {},
   "source": [
    "## Ejercicio 1\n",
    "\n",
    "Usted es un nutricionista que investiga dos tipos diferentes de dietas para ver si existe una diferencia significativa en la pérdida de peso después de un mes. Eliges dos grupos aleatorios de personas; un grupo sigue la primera dieta y el otro sigue la segunda. Al final del mes, se registra la pérdida de peso (en kg) de cada persona:\n",
    "\n",
    "| Diet 1 | Diet 2 |\n",
    "|:-------|:-------|\n",
    "| 2.0 | 3.0 |\n",
    "| 2.5 | 3.2 |\n",
    "| 3.0 | 3.1 |\n",
    "| 2.8 | 2.9 |\n",
    "| 2.3 | 2.8 |\n",
    "| 2.7 | 3.0 |\n",
    "| 2.5 | 3.2 |\n",
    "\n",
    "Con estos datos se busca responder a la siguiente pregunta: ¿Existe una diferencia significativa en la pérdida de peso promedio entre las personas que siguieron la primera dieta y las que siguieron la segunda dieta?\n",
    "\n",
    "Para sacar conclusiones, siga los siguientes puntos:\n",
    "\n",
    "-Enunciar la hipótesis: hipótesis nula y alternativa.\n",
    "-Realizar la prueba para comprobar la hipótesis. Puede utilizar la prueba t de Student.\n",
    "-Analizar las conclusiones."
   ]
  },
  {
   "cell_type": "markdown",
   "id": "b8ad4e9d",
   "metadata": {},
   "source": [
    "## RESPUESTA 1\n",
    "\n",
    "# Hipótesis nula (H₀):\n",
    "No hay diferencia en la pérdida de peso promedio entre las dos dietas.\n",
    "μ1 = μ2\n",
    "​\n",
    " \n",
    "\n",
    "# Hipótesis alternativa (H₁):\n",
    "Hay una diferencia en la pérdida de peso promedio entre las dos dietas.\n",
    "μ1 ≠ μ2\n",
    "\n",
    "Esto es lo que los inferencistas definen como una prueba bilateral (dos colas)."
   ]
  },
  {
   "cell_type": "code",
   "execution_count": 2,
   "id": "efce3155",
   "metadata": {},
   "outputs": [
    {
     "name": "stdout",
     "output_type": "stream",
     "text": [
      "Media Dieta 1: 2.543\n",
      "Media Dieta 2: 3.029\n",
      "Estadístico t: -3.5383\n",
      "Valor p: 0.0071\n",
      "Conclusión: Hay una diferencia significativa en la pérdida de peso entre las dos dietas.\n"
     ]
    }
   ],
   "source": [
    "import scipy.stats as stats\n",
    "\n",
    "# Datos\n",
    "dieta_1 = [2.0, 2.5, 3.0, 2.8, 2.3, 2.7, 2.5]\n",
    "dieta_2 = [3.0, 3.2, 3.1, 2.9, 2.8, 3.0, 3.2]\n",
    "\n",
    "# Estadísticas descriptivas\n",
    "media1 = sum(dieta_1) / len(dieta_1)\n",
    "media2 = sum(dieta_2) / len(dieta_2)\n",
    "\n",
    "# Prueba t de Student (asumiendo varianzas desiguales - prueba de Welch)\n",
    "t_stat, p_value = stats.ttest_ind(dieta_1, dieta_2, equal_var=False)\n",
    "\n",
    "# Resultados\n",
    "print(f\"Media Dieta 1: {media1:.3f}\")\n",
    "print(f\"Media Dieta 2: {media2:.3f}\")\n",
    "print(f\"Estadístico t: {t_stat:.4f}\")\n",
    "print(f\"Valor p: {p_value:.4f}\")\n",
    "\n",
    "# Interpretación\n",
    "alpha = 0.05\n",
    "if p_value < alpha:\n",
    "    print(\"Conclusión: Hay una diferencia significativa en la pérdida de peso entre las dos dietas.\")\n",
    "else:\n",
    "    print(\"Conclusión: No hay una diferencia significativa en la pérdida de peso entre las dos dietas.\")"
   ]
  },
  {
   "cell_type": "markdown",
   "id": "f0e0a325",
   "metadata": {},
   "source": [
    "# Conclusion\n",
    "\n",
    "Con un valor t=−3.44 y un valor p menor que 0.01, hay evidencia estadísticamente significativa para concluir que existe una diferencia en la pérdida de peso promedio entre las personas que siguieron la Dieta 1 y la Dieta 2. En particular, la Dieta 2 muestra una pérdida de peso mayor en promedio."
   ]
  },
  {
   "cell_type": "markdown",
   "id": "f432e18e",
   "metadata": {},
   "source": [
    "## ANOVA\n",
    "\n",
    "**ANOVA** (*Analysis of Variance - Análisis de variación*) Es una técnica estadística utilizada para comparar las medidas de dos o más grupos. La idea detrás de ANOVA es descomponer la variabilidad total de los datos en dos componentes: variabilidad entre grupos y variabilidad dentro de los grupos:\n",
    "\n",
    "- **Variabilidad entre grupos**: Esta variabilidad se refiere a las diferencias entre las medias del grupo. Si esta variabilidad es considerablemente mayor que la variabilidad dentro del grupo, podría ser una indicación de que al menos una de las medias del grupo es diferente.\n",
    "- **Variabilidad dentro del grupo**: Esta variabilidad se refiere a la dispersión de los datos dentro de cada grupo. Si todos los grupos tienen una variabilidad similar, entonces cualquier diferencia notable en las medias de los grupos podría considerarse significativa.\n",
    "\n",
    "Las hipótesis en ANOVA suelen incluir:\n",
    "\n",
    "- **Hipótesis nula** ($H₀$): Las medias de todos los grupos son iguales.\n",
    "- **Hipótesis alternativa** ($H₁$): Al menos una de las medias del grupo es diferente.\n",
    "\n",
    "Si el resultado de la prueba ANOVA es significativo (por ejemplo, un valor p inferior a un umbral como 0,05), esto sugiere que al menos la media de un grupo es diferente."
   ]
  },
  {
   "cell_type": "markdown",
   "id": "fc5f3721",
   "metadata": {},
   "source": [
    "## Ejercicio 2\n",
    "\n",
    "Un agricultor decide probar tres tipos diferentes de fertilizantes para determinar si alguno es superior en términos de producción de maíz. El agricultor planta maíz en 15 parcelas idénticas y utiliza los tres fertilizantes (5 parcelas para cada tipo). Al final de la temporada mide el rendimiento de maíz (en kg) de cada parcela, con el siguiente resultado:\n",
    "\n",
    "| Fertilizante 1 | Fertilizante 2 | Fertilizante 3 |\n",
    "|:-------------|:-------------|:-------------|\n",
    "| 20 | 22 | 24 |\n",
    "| 21 | 21 | 23 |\n",
    "| 20 | 23 | 22 |\n",
    "| 19 | 22 | 23 |\n",
    "| 20 | 21 | 24 |\n",
    "\n",
    "Con estos datos busca responder la siguiente pregunta: ¿Existe una diferencia significativa en el rendimiento promedio del maíz entre los tres tipos de fertilizantes?\n",
    "\n",
    "Para ayudarte, sigue los siguientes puntos:\n",
    "\n",
    "-Enunciar la hipótesis: hipótesis nula y alternativa.\n",
    "-Realizar la prueba ANOVA.\n",
    "-Analizar las conclusiones.\n",
    "-Si un fertilizante es mejor que otro, ¿cómo podemos saberlo?"
   ]
  },
  {
   "cell_type": "markdown",
   "id": "a5587540",
   "metadata": {},
   "source": [
    "## RESPUESTA 2\n",
    "\n",
    "# Hipótesis nula (H₀):\n",
    "No hay diferencia significativa en el rendimiento promedio del maíz entre los tres tipos de fertilizantes.\n",
    "μ1=μ2=μ3 \n",
    " \n",
    "\n",
    "# Hipótesis alternativa (H₁):\n",
    "Al menos un fertilizante tiene un rendimiento promedio significativamente diferente.\n",
    "∃𝑖i≠J tal que μi ≠ A los otros μ "
   ]
  },
  {
   "cell_type": "code",
   "execution_count": 8,
   "id": "eecad0ca",
   "metadata": {},
   "outputs": [
    {
     "name": "stdout",
     "output_type": "stream",
     "text": [
      "El Valor de F : 20.315789473684188\n",
      "El Valor de P: 0.00014047824793190472\n",
      "Conclusión: Hay una diferencia entre las Medias de los fertilizantes.\n",
      "Por lo que se rechaza la Hipotesis Nula. Sin embargo\n",
      "Se necesitaria hacer una prueba Post Hoc para identificar estadisticamente cual.\n"
     ]
    }
   ],
   "source": [
    "import scipy.stats as stats\n",
    "\n",
    "Rendimiento1 = [20, 21, 20, 19, 20]\n",
    "Rendimiento2 = [22, 21, 23, 22, 21]\n",
    "Rendimiento3 = [24, 23, 22, 23, 24]\n",
    "\n",
    "# ANOVA test\n",
    "f, p = stats.f_oneway(Rendimiento1, Rendimiento2, Rendimiento3)\n",
    "\n",
    "print(f\"El Valor de F : {f}\")\n",
    "print(f\"El Valor de P: {p}\")\n",
    "\n",
    "if p_value < 0.005:\n",
    "    print(\"Conclusión: Hay una diferencia entre las Medias de los fertilizantes.\")\n",
    "    print(\"Por lo que se rechaza la Hipotesis Nula. Sin embargo\")\n",
    "    print(\"Se necesitaria hacer una prueba Post Hoc para identificar estadisticamente cual.\")\n",
    "else:\n",
    "    print(\"Conclusión: No hay una diferencia significativa y se aprueba la Hipotesis Nula.\")"
   ]
  }
 ],
 "metadata": {
  "kernelspec": {
   "display_name": "Python 3",
   "language": "python",
   "name": "python3"
  },
  "language_info": {
   "codemirror_mode": {
    "name": "ipython",
    "version": 3
   },
   "file_extension": ".py",
   "mimetype": "text/x-python",
   "name": "python",
   "nbconvert_exporter": "python",
   "pygments_lexer": "ipython3",
   "version": "3.11.4"
  }
 },
 "nbformat": 4,
 "nbformat_minor": 5
}
